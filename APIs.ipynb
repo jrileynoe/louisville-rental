{
 "cells": [
  {
   "attachments": {},
   "cell_type": "markdown",
   "metadata": {},
   "source": [
    "First, we need to import several packages to use the APIs."
   ]
  },
  {
   "cell_type": "code",
   "execution_count": null,
   "metadata": {},
   "outputs": [],
   "source": []
  },
  {
   "cell_type": "code",
   "execution_count": 9,
   "metadata": {},
   "outputs": [
    {
     "name": "stdout",
     "output_type": "stream",
     "text": [
      "{'message': 'Invalid API key. Go to https://docs.rapidapi.com/docs/keys for more info.'}\n"
     ]
    }
   ],
   "source": [
    "import pandas as pd\n",
    "import requests\n",
    "import os\n",
    "\n",
    "url = \"https://zillow-com1.p.rapidapi.com/propertyExtendedSearch\"\n",
    "\n",
    "querystring = {\"location\":\"Louisville, KY\",\"status_type\":\"ForSale\",\"sort\":\"status_type = ForSale\"}\n",
    "\n",
    "API_Key = os.getenv(\"RAPIDAPI_KEY\")\n",
    "\n",
    "headers = {\n",
    "\t\"X-RapidAPI-Key\": os.getenv(\"RAPIDAPI_KEY\"),\n",
    "    \"X-RapidAPI-Host\": \"zillow-com1.p.rapidapi.com\"\n",
    "}\n",
    "\n",
    "response = requests.get(url, headers=headers, params=querystring)\n",
    "\n",
    "print(response.json())"
   ]
  },
  {
   "cell_type": "code",
   "execution_count": 13,
   "metadata": {},
   "outputs": [
    {
     "name": "stdout",
     "output_type": "stream",
     "text": [
      "env_var\n"
     ]
    }
   ],
   "source": [
    "import os\n",
    "try:\n",
    "    env_var = os.getenv(\"RAPIDAPI_KEY\")\n",
    "    print('ENV environment variable exists')#environ['RAPIDAPI_KEY']\n",
    "except KeyError:\n",
    "    print('ENV environment variable does not exist')"
   ]
  }
 ],
 "metadata": {
  "kernelspec": {
   "display_name": "Python 3",
   "language": "python",
   "name": "python3"
  },
  "language_info": {
   "codemirror_mode": {
    "name": "ipython",
    "version": 3
   },
   "file_extension": ".py",
   "mimetype": "text/x-python",
   "name": "python",
   "nbconvert_exporter": "python",
   "pygments_lexer": "ipython3",
   "version": "3.9.5"
  },
  "orig_nbformat": 4
 },
 "nbformat": 4,
 "nbformat_minor": 2
}
