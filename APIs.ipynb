{
 "cells": [
  {
   "cell_type": "code",
   "execution_count": 50,
   "metadata": {},
   "outputs": [
    {
     "name": "stdout",
     "output_type": "stream",
     "text": [
      "Address Information:\n",
      "  ZONING_CODE      PARCELID  HISTDIST   MUNI_NAME FIREDIST     COUNTY\n",
      "0          R5  026C01010000         0  LOUISVILLE        4  Jefferson\n"
     ]
    }
   ],
   "source": [
    "import requests\n",
    "import pandas as pd\n",
    "\n",
    "def get_address_info(address, zip_code):\n",
    "    api_url = \"https://gis.lojic.org/maps/rest/services/LojicSolutions/OpenDataAddresses/MapServer/0/query\"\n",
    "    \n",
    "    # Define the query parameters to search by FULL_ADDRESS\n",
    "    params = {\n",
    "        \"where\": f\"FULL_ADDRESS = '{address}'\",\n",
    "        \"outFields\": \"ZONING_CODE,PARCELID,HISTDIST,MUNI_NAME,FIREDIST,COUNTY\",\n",
    "        \"f\": \"json\"\n",
    "    }\n",
    "    \n",
    "    try:\n",
    "        response = requests.get(api_url, params=params)\n",
    "        if response.status_code == 200:\n",
    "            data = response.json()\n",
    "            features = data.get(\"features\", [])\n",
    "            if features:\n",
    "                # Create a DataFrame from the response data\n",
    "                df = pd.DataFrame([feature[\"attributes\"] for feature in features])\n",
    "                return df\n",
    "            else:\n",
    "                return \"Address not found\"\n",
    "        else:\n",
    "            return \"API request failed\"\n",
    "    except Exception as e:\n",
    "        return str(e)\n",
    "\n",
    "# Example usage\n",
    "input_address = \"1032 ASH ST\"\n",
    "input_zip_code = \"40217\"\n",
    "address_info = get_address_info(input_address, input_zip_code)\n",
    "\n",
    "if isinstance(address_info, pd.DataFrame):\n",
    "    print(\"Address Information:\")\n",
    "    print(address_info)\n",
    "else:\n",
    "    print(f\"No information found for the address\")\n"
   ]
  }
 ],
 "metadata": {
  "kernelspec": {
   "display_name": "Python 3",
   "language": "python",
   "name": "python3"
  },
  "language_info": {
   "codemirror_mode": {
    "name": "ipython",
    "version": 3
   },
   "file_extension": ".py",
   "mimetype": "text/x-python",
   "name": "python",
   "nbconvert_exporter": "python",
   "pygments_lexer": "ipython3",
   "version": "3.9.5"
  },
  "orig_nbformat": 4
 },
 "nbformat": 4,
 "nbformat_minor": 2
}
